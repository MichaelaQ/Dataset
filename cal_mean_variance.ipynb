{
 "cells": [
  {
   "cell_type": "code",
   "execution_count": 3,
   "metadata": {},
   "outputs": [],
   "source": [
    "import numpy as np\n",
    "import sys\n",
    "import os\n",
    "from os.path import join as pjoin\n",
    "\n",
    "\n",
    "# root_rot_velocity (B, seq_len, 1)\n",
    "# root_linear_velocity (B, seq_len, 2)\n",
    "# root_y (B, seq_len, 1)\n",
    "# ric_data (B, seq_len, (joint_num - 1)*3)\n",
    "# rot_data (B, seq_len, (joint_num - 1)*6)\n",
    "# local_velocity (B, seq_len, joint_num*3)\n",
    "# foot contact (B, seq_len, 4)\n",
    "def mean_variance(data_dir, save_dir, joints_num): #相对表示的均值和方差\n",
    "    file_list = os.listdir(data_dir)\n",
    "    data_list = []\n",
    "\n",
    "    for file in file_list:\n",
    "        data = np.load(pjoin(data_dir, file))\n",
    "        if np.isnan(data).any():\n",
    "            print(file)\n",
    "            continue\n",
    "        data_list.append(data)\n",
    "\n",
    "    data = np.concatenate(data_list, axis=0)\n",
    "    print(data.shape)\n",
    "    Mean = data.mean(axis=0)\n",
    "    Std = data.std(axis=0)\n",
    "    Std[0:1] = Std[0:1].mean() / 1.0\n",
    "    Std[1:3] = Std[1:3].mean() / 1.0\n",
    "    Std[3:4] = Std[3:4].mean() / 1.0\n",
    "    Std[4: 4+(joints_num - 1) * 3] = Std[4: 4+(joints_num - 1) * 3].mean() / 1.0\n",
    "    Std[4+(joints_num - 1) * 3: 4+(joints_num - 1) * 9] = Std[4+(joints_num - 1) * 3: 4+(joints_num - 1) * 9].mean() / 1.0\n",
    "    Std[4+(joints_num - 1) * 9: 4+(joints_num - 1) * 9 + joints_num*3] = Std[4+(joints_num - 1) * 9: 4+(joints_num - 1) * 9 + joints_num*3].mean() / 1.0\n",
    "    Std[4 + (joints_num - 1) * 9 + joints_num * 3: ] = Std[4 + (joints_num - 1) * 9 + joints_num * 3: ].mean() / 1.0\n",
    "\n",
    "    assert 8 + (joints_num - 1) * 9 + joints_num * 3 == Std.shape[-1]\n",
    "    if os.path.exists(pjoin(save_dir, 'Mean.npy')):\n",
    "        os.remove(pjoin(save_dir, 'Mean.npy'))\n",
    "    if os.path.exists(pjoin(save_dir, 'Std.npy')):\n",
    "        os.remove(pjoin(save_dir, 'Std.npy'))\n",
    "\n",
    "    np.save(pjoin(save_dir, 'Mean.npy'), Mean)\n",
    "    np.save(pjoin(save_dir, 'Std.npy'), Std)\n",
    "\n",
    "    return Mean, Std"
   ]
  },
  {
   "cell_type": "code",
   "execution_count": 2,
   "metadata": {},
   "outputs": [],
   "source": [
    "def mean_variance_test(data_dir, save_dir, joints_num): #测试集的相对表示的均值和方差\n",
    "    with open('/sata/public/yyqi/Dataset/OCEAN/test.txt', 'r') as file:\n",
    "        file_list = file.readlines()\n",
    "    data_list = []\n",
    "\n",
    "    for file in file_list:\n",
    "        data = np.load(pjoin(data_dir, file.strip()+'.npy'))\n",
    "        if np.isnan(data).any():\n",
    "            print(file)\n",
    "            continue\n",
    "        data_list.append(data)\n",
    "\n",
    "    data = np.concatenate(data_list, axis=0)\n",
    "    print(data.shape)\n",
    "    Mean = data.mean(axis=0)\n",
    "    Std = data.std(axis=0)\n",
    "    Std[0:1] = Std[0:1].mean() / 1.0\n",
    "    Std[1:3] = Std[1:3].mean() / 1.0\n",
    "    Std[3:4] = Std[3:4].mean() / 1.0\n",
    "    Std[4: 4+(joints_num - 1) * 3] = Std[4: 4+(joints_num - 1) * 3].mean() / 1.0\n",
    "    Std[4+(joints_num - 1) * 3: 4+(joints_num - 1) * 9] = Std[4+(joints_num - 1) * 3: 4+(joints_num - 1) * 9].mean() / 1.0\n",
    "    Std[4+(joints_num - 1) * 9: 4+(joints_num - 1) * 9 + joints_num*3] = Std[4+(joints_num - 1) * 9: 4+(joints_num - 1) * 9 + joints_num*3].mean() / 1.0\n",
    "    Std[4 + (joints_num - 1) * 9 + joints_num * 3: ] = Std[4 + (joints_num - 1) * 9 + joints_num * 3: ].mean() / 1.0\n",
    "\n",
    "    assert 8 + (joints_num - 1) * 9 + joints_num * 3 == Std.shape[-1]\n",
    "    if os.path.exists(pjoin(save_dir, 'interx_mean.npy')):\n",
    "        os.remove(pjoin(save_dir, 'interx_mean.npy'))\n",
    "    if os.path.exists(pjoin(save_dir, 'interx_std.npy')):\n",
    "        os.remove(pjoin(save_dir, 'interx_std.npy'))\n",
    "\n",
    "    np.save(pjoin(save_dir, 'interx_mean.npy'), Mean)\n",
    "    np.save(pjoin(save_dir, 'interx_std.npy'), Std)\n",
    "\n",
    "    return Mean, Std"
   ]
  },
  {
   "cell_type": "code",
   "execution_count": 1,
   "metadata": {},
   "outputs": [],
   "source": [
    "def mean_variance_val(data_dir, save_dir, joints_num): #验证集的相对表示的均值和方差\n",
    "    with open('/sata/public/yyqi/Dataset/OCEAN/val.txt', 'r') as file:\n",
    "        file_list = file.readlines()\n",
    "    data_list = []\n",
    "\n",
    "    for file in file_list:\n",
    "        data = np.load(pjoin(data_dir, file.strip()+'.npy'))\n",
    "        if np.isnan(data).any():\n",
    "            print(file)\n",
    "            continue\n",
    "        data_list.append(data)\n",
    "\n",
    "    data = np.concatenate(data_list, axis=0)\n",
    "    print(data.shape)\n",
    "    Mean = data.mean(axis=0)\n",
    "    Std = data.std(axis=0)\n",
    "    Std[0:1] = Std[0:1].mean() / 1.0\n",
    "    Std[1:3] = Std[1:3].mean() / 1.0\n",
    "    Std[3:4] = Std[3:4].mean() / 1.0\n",
    "    Std[4: 4+(joints_num - 1) * 3] = Std[4: 4+(joints_num - 1) * 3].mean() / 1.0\n",
    "    Std[4+(joints_num - 1) * 3: 4+(joints_num - 1) * 9] = Std[4+(joints_num - 1) * 3: 4+(joints_num - 1) * 9].mean() / 1.0\n",
    "    Std[4+(joints_num - 1) * 9: 4+(joints_num - 1) * 9 + joints_num*3] = Std[4+(joints_num - 1) * 9: 4+(joints_num - 1) * 9 + joints_num*3].mean() / 1.0\n",
    "    Std[4 + (joints_num - 1) * 9 + joints_num * 3: ] = Std[4 + (joints_num - 1) * 9 + joints_num * 3: ].mean() / 1.0\n",
    "\n",
    "    assert 8 + (joints_num - 1) * 9 + joints_num * 3 == Std.shape[-1]\n",
    "    if os.path.exists(pjoin(save_dir, 'interx_mean_val.npy')):\n",
    "        os.remove(pjoin(save_dir, 'interx_mean_val.npy'))\n",
    "    if os.path.exists(pjoin(save_dir, 'interx_std_val.npy')):\n",
    "        os.remove(pjoin(save_dir, 'interx_std_val.npy'))\n",
    "\n",
    "    np.save(pjoin(save_dir, 'interx_mean_val.npy'), Mean)\n",
    "    np.save(pjoin(save_dir, 'interx_std_val.npy'), Std)\n",
    "\n",
    "    return Mean, Std"
   ]
  },
  {
   "cell_type": "code",
   "execution_count": 4,
   "metadata": {},
   "outputs": [],
   "source": [
    "def mean_variance_raw(data_dir, save_dir): #全局位置的均值和方差\n",
    "    file_list = os.listdir(data_dir)\n",
    "    data_list = []\n",
    "\n",
    "    for file in file_list:\n",
    "        data = np.load(pjoin(data_dir, file))\n",
    "        if np.isnan(data).any():\n",
    "            print(file)\n",
    "            continue\n",
    "        data_list.append(data)\n",
    "\n",
    "    data = np.concatenate(data_list, axis=0)\n",
    "    print(data.shape)\n",
    "    Mean = data.mean(axis=0)\n",
    "    Std = data.std(axis=0)\n",
    "    if os.path.exists(pjoin(save_dir, 'Mean_raw.npy')):\n",
    "        os.remove(pjoin(save_dir, 'Mean_raw.npy'))\n",
    "    if os.path.exists(pjoin(save_dir, 'Std_raw.npy')):\n",
    "        os.remove(pjoin(save_dir, 'Std_raw.npy'))\n",
    "\n",
    "    np.save(pjoin(save_dir, 'Mean_raw.npy'), Mean)\n",
    "    np.save(pjoin(save_dir, 'Std_raw.npy'), Std)\n",
    "\n",
    "    return Mean, Std"
   ]
  },
  {
   "cell_type": "code",
   "execution_count": 4,
   "metadata": {},
   "outputs": [
    {
     "name": "stdout",
     "output_type": "stream",
     "text": [
      "(155744, 263)\n"
     ]
    }
   ],
   "source": [
    "if __name__ == '__main__':\n",
    "    \"\"\" 计算整个数据集全局表示的均值和方差 \"\"\"\n",
    "    data_dir = '/sata/public/yyqi/Dataset/OCEAN/new_joints/'\n",
    "    save_dir = '/sata/public/yyqi/Dataset/OCEAN/'\n",
    "    mean, std = mean_variance_raw(data_dir,save_dir)\n",
    "    \"\"\" 计算整个数据集相对表示的均值和方差 \"\"\"\n",
    "    data_dir_vec = '/sata/public/yyqi/Dataset/OCEAN/new_joint_vecs/'\n",
    "    save_dir_vec = '/sata/public/yyqi/Dataset/OCEAN/'\n",
    "    mean_vec, std_vec = mean_variance(data_dir_vec, save_dir_vec, 22)\n",
    "\n",
    "    \"\"\" 计算测试集的相对表示的均值和方差 \"\"\"\n",
    "    data_dir_vec = '/sata/public/yyqi/Dataset/OCEAN/new_joint_vecs/'\n",
    "    save_dir_vec = '/sata/public/yyqi/Personality-driven-motion-generation/dataset/'\n",
    "    mean_vec, std_vec = mean_variance_test(data_dir_vec, save_dir_vec, 22)\n",
    "\n",
    "    \"\"\" 计算验证集的相对表示的均值和方差 \"\"\"\n",
    "    data_dir_vec = '/sata/public/yyqi/Dataset/OCEAN/new_joint_vecs/'\n",
    "    save_dir_vec = '/sata/public/yyqi/Personality-driven-motion-generation/dataset/'\n",
    "    mean_vec, std_vec = mean_variance_val(data_dir_vec, save_dir_vec, 22)\n",
    "\n",
    "\n",
    "\n",
    "\n",
    "    # print(mean)\n",
    "    # print(std)"
   ]
  },
  {
   "cell_type": "markdown",
   "metadata": {},
   "source": [
    "### Check if your data is correct. If it's aligned with the given reference, then it is right"
   ]
  },
  {
   "cell_type": "code",
   "execution_count": 3,
   "metadata": {},
   "outputs": [
    {
     "ename": "NameError",
     "evalue": "name 'reference1' is not defined",
     "output_type": "error",
     "traceback": [
      "\u001b[0;31m---------------------------------------------------------------------------\u001b[0m",
      "\u001b[0;31mNameError\u001b[0m                                 Traceback (most recent call last)",
      "\u001b[0;32m/tmp/ipykernel_3125981/2830839348.py\u001b[0m in \u001b[0;36m<module>\u001b[0;34m\u001b[0m\n\u001b[0;32m----> 1\u001b[0;31m \u001b[0mabs\u001b[0m\u001b[0;34m(\u001b[0m\u001b[0mmean\u001b[0m\u001b[0;34m-\u001b[0m\u001b[0mreference1\u001b[0m\u001b[0;34m)\u001b[0m\u001b[0;34m.\u001b[0m\u001b[0msum\u001b[0m\u001b[0;34m(\u001b[0m\u001b[0;34m)\u001b[0m\u001b[0;34m\u001b[0m\u001b[0;34m\u001b[0m\u001b[0m\n\u001b[0m",
      "\u001b[0;31mNameError\u001b[0m: name 'reference1' is not defined"
     ]
    }
   ],
   "source": [
    "abs(mean-reference1).sum()"
   ]
  },
  {
   "cell_type": "code",
   "execution_count": null,
   "metadata": {},
   "outputs": [
    {
     "data": {
      "text/plain": [
       "0.0"
      ]
     },
     "execution_count": 5,
     "metadata": {},
     "output_type": "execute_result"
    }
   ],
   "source": [
    "abs(std-reference2).sum()"
   ]
  },
  {
   "cell_type": "code",
   "execution_count": null,
   "metadata": {},
   "outputs": [],
   "source": []
  }
 ],
 "metadata": {
  "kernelspec": {
   "display_name": "torch_render",
   "language": "python",
   "name": "python3"
  },
  "language_info": {
   "codemirror_mode": {
    "name": "ipython",
    "version": 3
   },
   "file_extension": ".py",
   "mimetype": "text/x-python",
   "name": "python",
   "nbconvert_exporter": "python",
   "pygments_lexer": "ipython3",
   "version": "3.7.10"
  }
 },
 "nbformat": 4,
 "nbformat_minor": 4
}
