{
 "cells": [
  {
   "cell_type": "code",
   "execution_count": 1,
   "metadata": {},
   "outputs": [],
   "source": [
    "import numpy as np\n",
    "import sys\n",
    "import os\n",
    "from os.path import join as pjoin\n",
    "\n",
    "\n",
    "# root_rot_velocity (B, seq_len, 1)\n",
    "# root_linear_velocity (B, seq_len, 2)\n",
    "# root_y (B, seq_len, 1)\n",
    "# ric_data (B, seq_len, (joint_num - 1)*3)\n",
    "# rot_data (B, seq_len, (joint_num - 1)*6)\n",
    "# local_velocity (B, seq_len, joint_num*3)\n",
    "# foot contact (B, seq_len, 4)\n",
    "def mean_variance(data_dir, save_dir, joints_num): #相对表示的均值和方差\n",
    "    file_list = os.listdir(data_dir)\n",
    "    data_list = []\n",
    "\n",
    "    for file in file_list:\n",
    "        data = np.load(pjoin(data_dir, file))\n",
    "        if np.isnan(data).any():\n",
    "            print(file)\n",
    "            continue\n",
    "        data_list.append(data)\n",
    "\n",
    "    data = np.concatenate(data_list, axis=0)\n",
    "    print(data.shape)\n",
    "    Mean = data.mean(axis=0)\n",
    "    Std = data.std(axis=0)\n",
    "    Std[0:1] = Std[0:1].mean() / 1.0\n",
    "    Std[1:3] = Std[1:3].mean() / 1.0\n",
    "    Std[3:4] = Std[3:4].mean() / 1.0\n",
    "    Std[4: 4+(joints_num - 1) * 3] = Std[4: 4+(joints_num - 1) * 3].mean() / 1.0\n",
    "    Std[4+(joints_num - 1) * 3: 4+(joints_num - 1) * 9] = Std[4+(joints_num - 1) * 3: 4+(joints_num - 1) * 9].mean() / 1.0\n",
    "    Std[4+(joints_num - 1) * 9: 4+(joints_num - 1) * 9 + joints_num*3] = Std[4+(joints_num - 1) * 9: 4+(joints_num - 1) * 9 + joints_num*3].mean() / 1.0\n",
    "    Std[4 + (joints_num - 1) * 9 + joints_num * 3: ] = Std[4 + (joints_num - 1) * 9 + joints_num * 3: ].mean() / 1.0\n",
    "\n",
    "    assert 8 + (joints_num - 1) * 9 + joints_num * 3 == Std.shape[-1]\n",
    "    if os.path.exists(pjoin(save_dir, 'Mean.npy')):\n",
    "        os.remove(pjoin(save_dir, 'Mean.npy'))\n",
    "    if os.path.exists(pjoin(save_dir, 'Std.npy')):\n",
    "        os.remove(pjoin(save_dir, 'Std.npy'))\n",
    "\n",
    "    np.save(pjoin(save_dir, 'Mean.npy'), Mean)\n",
    "    np.save(pjoin(save_dir, 'Std.npy'), Std)\n",
    "\n",
    "    return Mean, Std"
   ]
  },
  {
   "cell_type": "code",
   "execution_count": 2,
   "metadata": {},
   "outputs": [],
   "source": [
    "def mean_variance_raw(data_dir, save_dir): #全局位置的均值和方差\n",
    "    file_list = os.listdir(data_dir)\n",
    "    data_list = []\n",
    "\n",
    "    for file in file_list:\n",
    "        data = np.load(pjoin(data_dir, file))\n",
    "        if np.isnan(data).any():\n",
    "            print(file)\n",
    "            continue\n",
    "        data_list.append(data)\n",
    "\n",
    "    data = np.concatenate(data_list, axis=0)\n",
    "    print(data.shape)\n",
    "    Mean = data.mean(axis=0)\n",
    "    Std = data.std(axis=0)\n",
    "    if os.path.exists(pjoin(save_dir, 'Mean_raw.npy')):\n",
    "        os.remove(pjoin(save_dir, 'Mean_raw.npy'))\n",
    "    if os.path.exists(pjoin(save_dir, 'Std_raw.npy')):\n",
    "        os.remove(pjoin(save_dir, 'Std_raw.npy'))\n",
    "\n",
    "    np.save(pjoin(save_dir, 'Mean_raw.npy'), Mean)\n",
    "    np.save(pjoin(save_dir, 'Std_raw.npy'), Std)\n",
    "\n",
    "    return Mean, Std"
   ]
  },
  {
   "cell_type": "code",
   "execution_count": 3,
   "metadata": {},
   "outputs": [
    {
     "name": "stdout",
     "output_type": "stream",
     "text": [
      "(1586222, 22, 3)\n",
      "(1586222, 263)\n",
      "[[-2.1891168e-03  8.2828665e-01  2.0979439e-01]\n",
      " [ 4.4058967e-02  7.3480076e-01  2.0165431e-01]\n",
      " [-5.0930835e-02  7.3009056e-01  2.0601837e-01]\n",
      " [-3.6650833e-03  9.2525560e-01  1.7912452e-01]\n",
      " [ 8.1450775e-02  4.2076468e-01  2.7139816e-01]\n",
      " [-1.0420749e-01  4.2282185e-01  2.7574775e-01]\n",
      " [ 2.5961974e-03  1.0373110e+00  1.8027899e-01]\n",
      " [ 6.9359846e-02  5.9470072e-02  2.3016195e-01]\n",
      " [-1.0823476e-01  7.1252704e-02  2.3242174e-01]\n",
      " [-1.5728285e-03  1.0706782e+00  2.0287034e-01]\n",
      " [ 8.0087766e-02  2.1060057e-02  3.1166068e-01]\n",
      " [-1.1742713e-01  3.0223856e-02  3.0900109e-01]\n",
      " [-9.0125222e-03  1.2612382e+00  2.1528916e-01]\n",
      " [ 3.9588887e-02  1.1806058e+00  2.1395408e-01]\n",
      " [-4.5672689e-02  1.1776284e+00  2.1121424e-01]\n",
      " [ 1.0752120e-03  1.3765157e+00  2.7553481e-01]\n",
      " [ 1.0977590e-01  1.2094653e+00  2.1604078e-01]\n",
      " [-1.1870043e-01  1.2081469e+00  2.2074978e-01]\n",
      " [ 1.7492208e-01  9.8810005e-01  2.3459975e-01]\n",
      " [-1.9782035e-01  1.0121869e+00  2.5220096e-01]\n",
      " [ 1.5795442e-01  8.6909455e-01  3.1935281e-01]\n",
      " [-1.8144020e-01  9.0854782e-01  3.3835924e-01]]\n",
      "[[0.38453957 0.11920122 0.48056227]\n",
      " [0.3847296  0.11759595 0.48156276]\n",
      " [0.38607723 0.11642919 0.48177674]\n",
      " [0.385728   0.12848824 0.4868339 ]\n",
      " [0.3876566  0.03423904 0.48274106]\n",
      " [0.39148816 0.03930185 0.48473525]\n",
      " [0.3859482  0.13173692 0.48817924]\n",
      " [0.3895641  0.03451332 0.4891745 ]\n",
      " [0.39373904 0.0387631  0.4946798 ]\n",
      " [0.38540125 0.13601431 0.48500764]\n",
      " [0.39255008 0.02716411 0.4814774 ]\n",
      " [0.39723808 0.03456247 0.48790383]\n",
      " [0.38744664 0.14485322 0.48764774]\n",
      " [0.3860839  0.14121692 0.48572853]\n",
      " [0.3877768  0.14115511 0.48708367]\n",
      " [0.3903393  0.15772901 0.4831897 ]\n",
      " [0.3898042  0.14342208 0.4900977 ]\n",
      " [0.3942986  0.14524923 0.4922114 ]\n",
      " [0.3981344  0.15235406 0.49958774]\n",
      " [0.40852824 0.15954517 0.5042725 ]\n",
      " [0.40873164 0.19678894 0.49908653]\n",
      " [0.42052945 0.2145977  0.5039831 ]]\n"
     ]
    }
   ],
   "source": [
    "if __name__ == '__main__':\n",
    "    data_dir = '/sata/public/yyqi/Dataset/OCEAN/new_joints/'\n",
    "    save_dir = '/sata/public/yyqi/Dataset/OCEAN/'\n",
    "    # mean, std = mean_variance(data_dir, save_dir, 22)\n",
    "    mean, std = mean_variance_raw(data_dir,save_dir)\n",
    "\n",
    "    data_dir_vec = '/sata/public/yyqi/Dataset/OCEAN/new_joint_vecs/'\n",
    "    save_dir_vec = '/sata/public/yyqi/Dataset/OCEAN/'\n",
    "    mean_vec, std_vec = mean_variance(data_dir_vec, save_dir_vec, 22)\n",
    "\n",
    "\n",
    "    print(mean)\n",
    "    print(std)"
   ]
  },
  {
   "cell_type": "markdown",
   "metadata": {},
   "source": [
    "### Check if your data is correct. If it's aligned with the given reference, then it is right"
   ]
  },
  {
   "cell_type": "code",
   "execution_count": 3,
   "metadata": {},
   "outputs": [
    {
     "ename": "NameError",
     "evalue": "name 'reference1' is not defined",
     "output_type": "error",
     "traceback": [
      "\u001b[0;31m---------------------------------------------------------------------------\u001b[0m",
      "\u001b[0;31mNameError\u001b[0m                                 Traceback (most recent call last)",
      "\u001b[0;32m/tmp/ipykernel_3125981/2830839348.py\u001b[0m in \u001b[0;36m<module>\u001b[0;34m\u001b[0m\n\u001b[0;32m----> 1\u001b[0;31m \u001b[0mabs\u001b[0m\u001b[0;34m(\u001b[0m\u001b[0mmean\u001b[0m\u001b[0;34m-\u001b[0m\u001b[0mreference1\u001b[0m\u001b[0;34m)\u001b[0m\u001b[0;34m.\u001b[0m\u001b[0msum\u001b[0m\u001b[0;34m(\u001b[0m\u001b[0;34m)\u001b[0m\u001b[0;34m\u001b[0m\u001b[0;34m\u001b[0m\u001b[0m\n\u001b[0m",
      "\u001b[0;31mNameError\u001b[0m: name 'reference1' is not defined"
     ]
    }
   ],
   "source": [
    "abs(mean-reference1).sum()"
   ]
  },
  {
   "cell_type": "code",
   "execution_count": null,
   "metadata": {},
   "outputs": [
    {
     "data": {
      "text/plain": [
       "0.0"
      ]
     },
     "execution_count": 5,
     "metadata": {},
     "output_type": "execute_result"
    }
   ],
   "source": [
    "abs(std-reference2).sum()"
   ]
  },
  {
   "cell_type": "code",
   "execution_count": null,
   "metadata": {},
   "outputs": [],
   "source": []
  }
 ],
 "metadata": {
  "kernelspec": {
   "display_name": "torch_render",
   "language": "python",
   "name": "python3"
  },
  "language_info": {
   "codemirror_mode": {
    "name": "ipython",
    "version": 3
   },
   "file_extension": ".py",
   "mimetype": "text/x-python",
   "name": "python",
   "nbconvert_exporter": "python",
   "pygments_lexer": "ipython3",
   "version": "3.7.10"
  }
 },
 "nbformat": 4,
 "nbformat_minor": 4
}
