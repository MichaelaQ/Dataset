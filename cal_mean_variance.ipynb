{
 "cells": [
  {
   "cell_type": "code",
   "execution_count": 4,
   "metadata": {},
   "outputs": [],
   "source": [
    "import numpy as np\n",
    "import sys\n",
    "import os\n",
    "from os.path import join as pjoin\n",
    "\n",
    "\n",
    "# root_rot_velocity (B, seq_len, 1)\n",
    "# root_linear_velocity (B, seq_len, 2)\n",
    "# root_y (B, seq_len, 1)\n",
    "# ric_data (B, seq_len, (joint_num - 1)*3)\n",
    "# rot_data (B, seq_len, (joint_num - 1)*6)\n",
    "# local_velocity (B, seq_len, joint_num*3)\n",
    "# foot contact (B, seq_len, 4)\n",
    "def mean_variance(data_dir, save_dir, joints_num): #相对表示的均值和方差\n",
    "    file_list = os.listdir(data_dir)\n",
    "    data_list = []\n",
    "\n",
    "    for file in file_list:\n",
    "        data = np.load(pjoin(data_dir, file))\n",
    "        if np.isnan(data).any():\n",
    "            print(file)\n",
    "            continue\n",
    "        data_list.append(data)\n",
    "\n",
    "    data = np.concatenate(data_list, axis=0)\n",
    "    print(data.shape)\n",
    "    Mean = data.mean(axis=0)\n",
    "    Std = data.std(axis=0)\n",
    "    Std[0:1] = Std[0:1].mean() / 1.0\n",
    "    Std[1:3] = Std[1:3].mean() / 1.0\n",
    "    Std[3:4] = Std[3:4].mean() / 1.0\n",
    "    Std[4: 4+(joints_num - 1) * 3] = Std[4: 4+(joints_num - 1) * 3].mean() / 1.0\n",
    "    Std[4+(joints_num - 1) * 3: 4+(joints_num - 1) * 9] = Std[4+(joints_num - 1) * 3: 4+(joints_num - 1) * 9].mean() / 1.0\n",
    "    Std[4+(joints_num - 1) * 9: 4+(joints_num - 1) * 9 + joints_num*3] = Std[4+(joints_num - 1) * 9: 4+(joints_num - 1) * 9 + joints_num*3].mean() / 1.0\n",
    "    Std[4 + (joints_num - 1) * 9 + joints_num * 3: ] = Std[4 + (joints_num - 1) * 9 + joints_num * 3: ].mean() / 1.0\n",
    "\n",
    "    assert 8 + (joints_num - 1) * 9 + joints_num * 3 == Std.shape[-1]\n",
    "\n",
    "    np.save(pjoin(save_dir, 'Mean.npy'), Mean)\n",
    "    np.save(pjoin(save_dir, 'Std.npy'), Std)\n",
    "\n",
    "    return Mean, Std"
   ]
  },
  {
   "cell_type": "code",
   "execution_count": 3,
   "metadata": {},
   "outputs": [],
   "source": [
    "def mean_variance_raw(data_dir, save_dir): #全局位置的均值和方差\n",
    "    file_list = os.listdir(data_dir)\n",
    "    data_list = []\n",
    "\n",
    "    for file in file_list:\n",
    "        data = np.load(pjoin(data_dir, file))\n",
    "        if np.isnan(data).any():\n",
    "            print(file)\n",
    "            continue\n",
    "        data_list.append(data)\n",
    "\n",
    "    data = np.concatenate(data_list, axis=0)\n",
    "    print(data.shape)\n",
    "    Mean = data.mean(axis=0)\n",
    "    Std = data.std(axis=0)\n",
    "\n",
    "    np.save(pjoin(save_dir, 'Mean_raw.npy'), Mean)\n",
    "    np.save(pjoin(save_dir, 'Std_raw.npy'), Std)\n",
    "\n",
    "    return Mean, Std"
   ]
  },
  {
   "cell_type": "code",
   "execution_count": 7,
   "metadata": {},
   "outputs": [
    {
     "name": "stdout",
     "output_type": "stream",
     "text": [
      "(2684682, 22, 3)\n",
      "(2684682, 263)\n",
      "[[ 1.85889832e-03  8.21729898e-01  2.06373796e-01]\n",
      " [ 4.74626347e-02  7.22078741e-01  1.98859230e-01]\n",
      " [-4.63037640e-02  7.18142331e-01  2.03606859e-01]\n",
      " [ 2.86853348e-04  9.23918009e-01  1.75564572e-01]\n",
      " [ 8.60795006e-02  4.19837147e-01  2.74427533e-01]\n",
      " [-9.97611955e-02  4.21971291e-01  2.79656827e-01]\n",
      " [ 6.45508850e-03  1.01511693e+00  1.77516043e-01]\n",
      " [ 7.40409419e-02  6.00970685e-02  2.34032750e-01]\n",
      " [-1.03523687e-01  7.17998743e-02  2.37058401e-01]\n",
      " [ 2.41553667e-03  1.06512034e+00  2.00170517e-01]\n",
      " [ 8.49210545e-02  2.17483751e-02  3.14506710e-01]\n",
      " [-1.12192824e-01  3.08326669e-02  3.12687546e-01]\n",
      " [-4.95923497e-03  1.23284161e+00  2.14314133e-01]\n",
      " [ 4.31127734e-02  1.17654526e+00  2.12073818e-01]\n",
      " [-4.11896408e-02  1.17443359e+00  2.09594965e-01]\n",
      " [ 5.22569194e-03  1.37797177e+00  2.74733633e-01]\n",
      " [ 1.12396039e-01  1.19715631e+00  2.14579001e-01]\n",
      " [-1.13312311e-01  1.19626427e+00  2.19880491e-01]\n",
      " [ 1.77621081e-01  9.78347600e-01  2.33150125e-01]\n",
      " [-1.91815227e-01  9.99402881e-01  2.50605345e-01]\n",
      " [ 1.59263492e-01  8.61672342e-01  3.18315357e-01]\n",
      " [-1.73906386e-01  8.98497403e-01  3.36564064e-01]]\n",
      "[[0.3857369  0.12494248 0.47977707]\n",
      " [0.38555887 0.12362749 0.48027194]\n",
      " [0.3877652  0.12226585 0.48062173]\n",
      " [0.3873205  0.13518582 0.4865933 ]\n",
      " [0.38742453 0.03546939 0.48017034]\n",
      " [0.39356574 0.04081022 0.4821211 ]\n",
      " [0.3874885  0.13861662 0.48792237]\n",
      " [0.3898153  0.03549341 0.48754713]\n",
      " [0.39624685 0.03944742 0.49262217]\n",
      " [0.3867501  0.14251597 0.48459148]\n",
      " [0.39220074 0.0288447  0.48008066]\n",
      " [0.39946082 0.03549499 0.48597685]\n",
      " [0.3888638  0.15259881 0.48705927]\n",
      " [0.38702986 0.14809692 0.48505482]\n",
      " [0.3895202  0.14786693 0.48660654]\n",
      " [0.39130187 0.16526219 0.48247385]\n",
      " [0.3902203  0.15023096 0.4892881 ]\n",
      " [0.39683774 0.15146361 0.4917868 ]\n",
      " [0.39862785 0.15669659 0.4982329 ]\n",
      " [0.4120552  0.16281489 0.5036995 ]\n",
      " [0.40860957 0.19624723 0.4965961 ]\n",
      " [0.42302456 0.21394143 0.5024886 ]]\n"
     ]
    }
   ],
   "source": [
    "if __name__ == '__main__':\n",
    "    data_dir = '/sata/public/yyqi/Dataset/OCEAN/new_joints/'\n",
    "    save_dir = '/sata/public/yyqi/Dataset/OCEAN/'\n",
    "    # mean, std = mean_variance(data_dir, save_dir, 22)\n",
    "    mean, std = mean_variance_raw(data_dir,save_dir)\n",
    "\n",
    "    data_dir_vec = '/sata/public/yyqi/Dataset/OCEAN/new_joint_vecs/'\n",
    "    save_dir_vec = '/sata/public/yyqi/Dataset/OCEAN/'\n",
    "    mean_vec, std_vec = mean_variance(data_dir_vec, save_dir_vec, 22)\n",
    "\n",
    "\n",
    "    print(mean)\n",
    "    print(std)"
   ]
  },
  {
   "cell_type": "markdown",
   "metadata": {},
   "source": [
    "### Check if your data is correct. If it's aligned with the given reference, then it is right"
   ]
  },
  {
   "cell_type": "code",
   "execution_count": 3,
   "metadata": {},
   "outputs": [
    {
     "ename": "NameError",
     "evalue": "name 'reference1' is not defined",
     "output_type": "error",
     "traceback": [
      "\u001b[0;31m---------------------------------------------------------------------------\u001b[0m",
      "\u001b[0;31mNameError\u001b[0m                                 Traceback (most recent call last)",
      "\u001b[0;32m/tmp/ipykernel_3125981/2830839348.py\u001b[0m in \u001b[0;36m<module>\u001b[0;34m\u001b[0m\n\u001b[0;32m----> 1\u001b[0;31m \u001b[0mabs\u001b[0m\u001b[0;34m(\u001b[0m\u001b[0mmean\u001b[0m\u001b[0;34m-\u001b[0m\u001b[0mreference1\u001b[0m\u001b[0;34m)\u001b[0m\u001b[0;34m.\u001b[0m\u001b[0msum\u001b[0m\u001b[0;34m(\u001b[0m\u001b[0;34m)\u001b[0m\u001b[0;34m\u001b[0m\u001b[0;34m\u001b[0m\u001b[0m\n\u001b[0m",
      "\u001b[0;31mNameError\u001b[0m: name 'reference1' is not defined"
     ]
    }
   ],
   "source": [
    "abs(mean-reference1).sum()"
   ]
  },
  {
   "cell_type": "code",
   "execution_count": null,
   "metadata": {},
   "outputs": [
    {
     "data": {
      "text/plain": [
       "0.0"
      ]
     },
     "execution_count": 5,
     "metadata": {},
     "output_type": "execute_result"
    }
   ],
   "source": [
    "abs(std-reference2).sum()"
   ]
  },
  {
   "cell_type": "code",
   "execution_count": null,
   "metadata": {},
   "outputs": [],
   "source": []
  }
 ],
 "metadata": {
  "kernelspec": {
   "display_name": "torch_render",
   "language": "python",
   "name": "python3"
  },
  "language_info": {
   "codemirror_mode": {
    "name": "ipython",
    "version": 3
   },
   "file_extension": ".py",
   "mimetype": "text/x-python",
   "name": "python",
   "nbconvert_exporter": "python",
   "pygments_lexer": "ipython3",
   "version": "3.7.10"
  }
 },
 "nbformat": 4,
 "nbformat_minor": 4
}
