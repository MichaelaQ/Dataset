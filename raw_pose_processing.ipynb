{
 "cells": [
  {
   "cell_type": "code",
   "execution_count": 3,
   "metadata": {},
   "outputs": [
    {
     "name": "stdout",
     "output_type": "stream",
     "text": [
      "The autoreload extension is already loaded. To reload it, use:\n",
      "  %reload_ext autoreload\n"
     ]
    }
   ],
   "source": [
    "%load_ext autoreload\n",
    "%autoreload 2\n",
    "%matplotlib notebook\n",
    "%matplotlib inline\n",
    "\n",
    "import sys, os\n",
    "import torch\n",
    "import numpy as np\n",
    "import matplotlib\n",
    "import matplotlib.pyplot as plt\n",
    "from tqdm import tqdm\n",
    "\n",
    "\n",
    "\n",
    "#from human_body_prior.tools.omni_tools import copy2cpu as c2c\n",
    "\n",
    "#os.environ['PYOPENGL_PLATFORM'] = 'egl'"
   ]
  },
  {
   "cell_type": "code",
   "execution_count": 4,
   "metadata": {},
   "outputs": [],
   "source": [
    "# Choose the device to run the body model on.\n",
    "comp_device = torch.device(\"cuda:0\" if torch.cuda.is_available() else \"cpu\")"
   ]
  },
  {
   "cell_type": "code",
   "execution_count": 3,
   "metadata": {},
   "outputs": [],
   "source": [
    "paths = []\n",
    "folders = []\n",
    "dataset_names = []\n",
    "for root, dirs, files in os.walk('./inter_x'):\n",
    "#     print(root, dirs, files)\n",
    "#     for folder in dirs:\n",
    "#         folders.append(os.path.join(root, folder))\n",
    "    folders.append(root)\n",
    "    for name in files:\n",
    "        dataset_name = root.split('/')[2]\n",
    "        if dataset_name not in dataset_names:\n",
    "            dataset_names.append(dataset_name)\n",
    "        paths.append(os.path.join(root, name))"
   ]
  },
  {
   "cell_type": "code",
   "execution_count": 4,
   "metadata": {},
   "outputs": [],
   "source": [
    "save_root = './pose_data'\n",
    "save_folders = [folder.replace('./inter_x', './pose_data') for folder in folders]\n",
    "for folder in save_folders:\n",
    "    os.makedirs(folder, exist_ok=True)\n",
    "group_path = [[path for path in paths if name in path] for name in dataset_names]"
   ]
  },
  {
   "cell_type": "code",
   "execution_count": 5,
   "metadata": {},
   "outputs": [],
   "source": [
    "group_path = group_path\n",
    "all_count = sum([len(paths) for paths in group_path])\n",
    "cur_count = 0"
   ]
  },
  {
   "cell_type": "code",
   "execution_count": 6,
   "metadata": {},
   "outputs": [],
   "source": [
    "import numpy as np\n",
    "\n",
    "\n",
    "from aitviewer.configuration import CONFIG as C\n",
    "from aitviewer.renderables.meshes import Meshes\n",
    "from aitviewer.renderables.skeletons import Skeletons\n",
    "from aitviewer.renderables.plane import Plane\n",
    "from aitviewer.viewer import Viewer\n",
    "from scipy.spatial.transform import Rotation as R\n",
    "\n",
    "from aitviewer.models.smpl import SMPLLayer\n",
    "from aitviewer.renderables.smpl import SMPLSequence\n",
    "\n",
    "ex_fps = 20\n",
    "def interx_to_pose(src_path, save_path):\n",
    "    bdata = np.load(src_path, allow_pickle=True)\n",
    "    fps = 120 #原始帧率\n",
    "\n",
    "    down_sample = int(fps / ex_fps)\n",
    "\n",
    "    nf = bdata['pose_body'][::down_sample,...].shape[0] #138\n",
    "\n",
    "    betas = bdata['betas'] #[1,10]\n",
    "    poses_root = bdata['root_orient'][::down_sample,...] #[138,3]\n",
    "    poses_body = bdata['pose_body'][::down_sample,...].reshape(nf,-1) #[138,63]\n",
    "    poses_lhand = bdata['pose_lhand'][::down_sample,...].reshape(nf,-1) #[138,45]\n",
    "    poses_rhand = bdata['pose_rhand'][::down_sample,...].reshape(nf,-1) #[138,45]\n",
    "    transl = bdata['trans'][::down_sample,...] #[138,3]\n",
    "    gender = str(bdata['gender']) #male\n",
    "\n",
    "\n",
    "    # create body models\n",
    "    smplx_layer = SMPLLayer(model_type='smplx',gender=gender,num_betas=10,device=C.device)\n",
    "    smplx_seq = SMPLSequence(poses_body=poses_body,\n",
    "                        smpl_layer=smplx_layer,\n",
    "                        poses_root=poses_root,\n",
    "                        betas=betas,\n",
    "                        trans=transl,\n",
    "                        poses_left_hand=poses_lhand,\n",
    "                        poses_right_hand=poses_rhand,\n",
    "                        device=C.device,\n",
    "                        color=(0.11, 0.53, 0.8, 1.0)\n",
    "                        )\n",
    "\n",
    "\n",
    "\n",
    "    pose_seq_np = smplx_seq.joints\n",
    "    directory, filename = os.path.split(save_path)\n",
    "    new_filename = os.path.basename(directory) + filename\n",
    "    directory = './joints/'\n",
    "    new_save_path = os.path.join(directory, new_filename)\n",
    "    np.save(new_save_path, pose_seq_np)\n",
    "    return fps"
   ]
  },
  {
   "cell_type": "markdown",
   "metadata": {},
   "source": [
    "This will take a few hours for all datasets, here we take one dataset as an example\n",
    "\n",
    "To accelerate the process, you could run multiple scripts like this at one time."
   ]
  },
  {
   "cell_type": "code",
   "execution_count": 9,
   "metadata": {},
   "outputs": [
    {
     "name": "stdout",
     "output_type": "stream",
     "text": [
      "22910\n",
      "22776\n"
     ]
    },
    {
     "ename": "",
     "evalue": "",
     "output_type": "error",
     "traceback": [
      "\u001b[1;31m在当前单元格或上一个单元格中执行代码时 Kernel 崩溃。\n",
      "\u001b[1;31m请查看单元格中的代码，以确定故障的可能原因。\n",
      "\u001b[1;31m单击<a href='https://aka.ms/vscodeJupyterKernelCrash'>此处</a>了解详细信息。\n",
      "\u001b[1;31m有关更多详细信息，请查看 Jupyter <a href='command:jupyter.viewOutput'>log</a>。"
     ]
    }
   ],
   "source": [
    "import time\n",
    "for paths in group_path:\n",
    "    dataset_name = paths[0].split('/')[2]\n",
    "#   pbar = tqdm(paths)\n",
    "#    pbar.set_description('Processing: %s'%dataset_name)\n",
    "    fps = 0\n",
    "    for path in pbar:\n",
    "        save_path = path.replace('./inter_x', './pose_data')\n",
    "        save_path = save_path[:-3] + 'npy'\n",
    "        # fps = amass_to_pose(path, save_path)\n",
    "        fps = interx_to_pose(path,save_path)\n",
    "        \n",
    "    cur_count += len(paths)\n",
    "#  print('Processed / All (fps %d): %d/%d'% (fps, cur_count, all_count) )\n",
    "    time.sleep(0.5)\n",
    "print(cur_count)\n",
    "print(all_count)"
   ]
  }
 ],
 "metadata": {
  "kernelspec": {
   "display_name": "torch_render",
   "language": "python",
   "name": "python3"
  },
  "language_info": {
   "codemirror_mode": {
    "name": "ipython",
    "version": 3
   },
   "file_extension": ".py",
   "mimetype": "text/x-python",
   "name": "python",
   "nbconvert_exporter": "python",
   "pygments_lexer": "ipython3",
   "version": "3.7.10"
  }
 },
 "nbformat": 4,
 "nbformat_minor": 4
}
